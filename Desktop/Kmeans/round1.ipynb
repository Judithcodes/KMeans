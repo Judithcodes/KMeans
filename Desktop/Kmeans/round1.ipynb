{
 "cells": [
  {
   "cell_type": "markdown",
   "metadata": {},
   "source": [
    "# Import Necessary Libraries"
   ]
  },
  {
   "cell_type": "code",
   "execution_count": 154,
   "metadata": {},
   "outputs": [],
   "source": [
    "import pandas as pd\n",
    "import numpy as np\n",
    "import matplotlib.pyplot as plt\n",
    "import pandas as pd\n",
    "from sklearn.metrics import silhouette_samples, silhouette_score"
   ]
  },
  {
   "cell_type": "markdown",
   "metadata": {},
   "source": [
    "# Read DataSet"
   ]
  },
  {
   "cell_type": "code",
   "execution_count": 158,
   "metadata": {
    "scrolled": true
   },
   "outputs": [
    {
     "data": {
      "text/html": [
       "<div>\n",
       "<style scoped>\n",
       "    .dataframe tbody tr th:only-of-type {\n",
       "        vertical-align: middle;\n",
       "    }\n",
       "\n",
       "    .dataframe tbody tr th {\n",
       "        vertical-align: top;\n",
       "    }\n",
       "\n",
       "    .dataframe thead th {\n",
       "        text-align: right;\n",
       "    }\n",
       "</style>\n",
       "<table border=\"1\" class=\"dataframe\">\n",
       "  <thead>\n",
       "    <tr style=\"text-align: right;\">\n",
       "      <th></th>\n",
       "      <th>accuracyRate % (correct/attempted)</th>\n",
       "      <th>attemptRate% (attempted/total)</th>\n",
       "      <th>studentId</th>\n",
       "    </tr>\n",
       "  </thead>\n",
       "  <tbody>\n",
       "    <tr>\n",
       "      <th>0</th>\n",
       "      <td>0.000000</td>\n",
       "      <td>0.000000</td>\n",
       "      <td>5ace5f3b9fe7b01d581ddef8</td>\n",
       "    </tr>\n",
       "    <tr>\n",
       "      <th>1</th>\n",
       "      <td>0.000000</td>\n",
       "      <td>0.000000</td>\n",
       "      <td>5ace5f3b9fe7b01d581ddef8</td>\n",
       "    </tr>\n",
       "    <tr>\n",
       "      <th>2</th>\n",
       "      <td>0.000000</td>\n",
       "      <td>0.000000</td>\n",
       "      <td>5ace5f3b9fe7b01d581ddef8</td>\n",
       "    </tr>\n",
       "    <tr>\n",
       "      <th>3</th>\n",
       "      <td>0.000000</td>\n",
       "      <td>0.000000</td>\n",
       "      <td>5ace5f3b9fe7b01d581ddef8</td>\n",
       "    </tr>\n",
       "    <tr>\n",
       "      <th>4</th>\n",
       "      <td>66.666667</td>\n",
       "      <td>33.333333</td>\n",
       "      <td>5ace5f3b9fe7b01d581ddef8</td>\n",
       "    </tr>\n",
       "  </tbody>\n",
       "</table>\n",
       "</div>"
      ],
      "text/plain": [
       "   accuracyRate % (correct/attempted)  attemptRate% (attempted/total)  \\\n",
       "0                            0.000000                        0.000000   \n",
       "1                            0.000000                        0.000000   \n",
       "2                            0.000000                        0.000000   \n",
       "3                            0.000000                        0.000000   \n",
       "4                           66.666667                       33.333333   \n",
       "\n",
       "                  studentId  \n",
       "0  5ace5f3b9fe7b01d581ddef8  \n",
       "1  5ace5f3b9fe7b01d581ddef8  \n",
       "2  5ace5f3b9fe7b01d581ddef8  \n",
       "3  5ace5f3b9fe7b01d581ddef8  \n",
       "4  5ace5f3b9fe7b01d581ddef8  "
      ]
     },
     "execution_count": 158,
     "metadata": {},
     "output_type": "execute_result"
    }
   ],
   "source": [
    "df = pd.read_csv('Sample_test_attempt_data.csv')\n",
    "del df['subject']\n",
    "df.head()"
   ]
  },
  {
   "cell_type": "markdown",
   "metadata": {},
   "source": [
    "# Data is clean no null values"
   ]
  },
  {
   "cell_type": "code",
   "execution_count": 147,
   "metadata": {},
   "outputs": [
    {
     "name": "stdout",
     "output_type": "stream",
     "text": [
      "<class 'pandas.core.frame.DataFrame'>\n",
      "RangeIndex: 13806 entries, 0 to 13805\n",
      "Data columns (total 4 columns):\n",
      "accuracyRate % (correct/attempted)    13806 non-null float64\n",
      "attemptRate% (attempted/total)        13806 non-null float64\n",
      "studentId                             13806 non-null object\n",
      "subject                               13806 non-null object\n",
      "dtypes: float64(2), object(2)\n",
      "memory usage: 431.5+ KB\n"
     ]
    }
   ],
   "source": [
    "df.info()"
   ]
  },
  {
   "cell_type": "markdown",
   "metadata": {},
   "source": [
    "# Change studentID as index and find mean of each group\n"
   ]
  },
  {
   "cell_type": "code",
   "execution_count": 167,
   "metadata": {},
   "outputs": [
    {
     "data": {
      "text/html": [
       "<div>\n",
       "<style scoped>\n",
       "    .dataframe tbody tr th:only-of-type {\n",
       "        vertical-align: middle;\n",
       "    }\n",
       "\n",
       "    .dataframe tbody tr th {\n",
       "        vertical-align: top;\n",
       "    }\n",
       "\n",
       "    .dataframe thead th {\n",
       "        text-align: right;\n",
       "    }\n",
       "</style>\n",
       "<table border=\"1\" class=\"dataframe\">\n",
       "  <thead>\n",
       "    <tr style=\"text-align: right;\">\n",
       "      <th></th>\n",
       "      <th>accuracyRate % (correct/attempted)</th>\n",
       "      <th>attemptRate% (attempted/total)</th>\n",
       "    </tr>\n",
       "    <tr>\n",
       "      <th>studentId</th>\n",
       "      <th></th>\n",
       "      <th></th>\n",
       "    </tr>\n",
       "  </thead>\n",
       "  <tbody>\n",
       "    <tr>\n",
       "      <th>5ace4ac29fe7b01d581808f5</th>\n",
       "      <td>40.712560</td>\n",
       "      <td>32.346939</td>\n",
       "    </tr>\n",
       "    <tr>\n",
       "      <th>5ace4ac69fe7b01d581809f1</th>\n",
       "      <td>78.219863</td>\n",
       "      <td>78.201058</td>\n",
       "    </tr>\n",
       "    <tr>\n",
       "      <th>5ace4ac89fe7b01d58180a48</th>\n",
       "      <td>64.951237</td>\n",
       "      <td>77.240741</td>\n",
       "    </tr>\n",
       "    <tr>\n",
       "      <th>5ace4acb9fe7b01d58180acc</th>\n",
       "      <td>74.872533</td>\n",
       "      <td>91.735639</td>\n",
       "    </tr>\n",
       "    <tr>\n",
       "      <th>5ace4acf9fe7b01d58180baa</th>\n",
       "      <td>69.487074</td>\n",
       "      <td>74.184618</td>\n",
       "    </tr>\n",
       "  </tbody>\n",
       "</table>\n",
       "</div>"
      ],
      "text/plain": [
       "                          accuracyRate % (correct/attempted)  \\\n",
       "studentId                                                      \n",
       "5ace4ac29fe7b01d581808f5                           40.712560   \n",
       "5ace4ac69fe7b01d581809f1                           78.219863   \n",
       "5ace4ac89fe7b01d58180a48                           64.951237   \n",
       "5ace4acb9fe7b01d58180acc                           74.872533   \n",
       "5ace4acf9fe7b01d58180baa                           69.487074   \n",
       "\n",
       "                          attemptRate% (attempted/total)  \n",
       "studentId                                                 \n",
       "5ace4ac29fe7b01d581808f5                       32.346939  \n",
       "5ace4ac69fe7b01d581809f1                       78.201058  \n",
       "5ace4ac89fe7b01d58180a48                       77.240741  \n",
       "5ace4acb9fe7b01d58180acc                       91.735639  \n",
       "5ace4acf9fe7b01d58180baa                       74.184618  "
      ]
     },
     "execution_count": 167,
     "metadata": {},
     "output_type": "execute_result"
    }
   ],
   "source": [
    "df = df.groupby(['studentId']).mean()\n",
    "df.head()"
   ]
  },
  {
   "cell_type": "markdown",
   "metadata": {},
   "source": [
    "# Seperate the column which we want to clusted based on"
   ]
  },
  {
   "cell_type": "code",
   "execution_count": 170,
   "metadata": {
    "scrolled": true
   },
   "outputs": [
    {
     "data": {
      "text/plain": [
       "array([[40.71256039, 32.34693877],\n",
       "       [78.21986272, 78.2010582 ],\n",
       "       [64.95123695, 77.24074074],\n",
       "       ...,\n",
       "       [17.77777778,  8.29081633],\n",
       "       [22.60504202, 20.99395314],\n",
       "       [67.38938219, 86.8159486 ]])"
      ]
     },
     "execution_count": 170,
     "metadata": {},
     "output_type": "execute_result"
    }
   ],
   "source": [
    "X = df.iloc[:,[0,1]].values\n",
    "X"
   ]
  },
  {
   "cell_type": "markdown",
   "metadata": {},
   "source": [
    "# Find Optimal number of clustering using Elbow Method"
   ]
  },
  {
   "cell_type": "code",
   "execution_count": 172,
   "metadata": {},
   "outputs": [
    {
     "name": "stdout",
     "output_type": "stream",
     "text": [
      "5 is optimal number of cluster\n"
     ]
    },
    {
     "data": {
      "image/png": "[encoded data removed]",
      "text/plain": [
       "<Figure size 432x288 with 1 Axes>"
      ]
     },
     "metadata": {
      "needs_background": "light"
     },
     "output_type": "display_data"
    }
   ],
   "source": [
    "#Using the elbow method to find the optimal number of clusters\n",
    "from sklearn.cluster import KMeans\n",
    "wcss = []\n",
    "for i in range(2, 11):\n",
    "    kmeans = KMeans(n_clusters = i, init = 'k-means++', random_state = 42)\n",
    "    kmeans.fit(X)\n",
    "    wcss.append(kmeans.inertia_)\n",
    "print('5 is optimal number of cluster')\n",
    "plt.plot(range(2, 11), wcss)\n",
    "plt.title('The Elbow Method')\n",
    "plt.xlabel('Number of clusters')\n",
    "plt.ylabel('WCSS')\n",
    "plt.show()"
   ]
  },
  {
   "cell_type": "markdown",
   "metadata": {},
   "source": [
    "# Fitting the Kmeans Alogrithm and plotting distribution"
   ]
  },
  {
   "cell_type": "code",
   "execution_count": 174,
   "metadata": {},
   "outputs": [
    {
     "data": {
      "image/png": "[encoded data removed]",
      "text/plain": [
       "<Figure size 432x288 with 1 Axes>"
      ]
     },
     "metadata": {
      "needs_background": "light"
     },
     "output_type": "display_data"
    }
   ],
   "source": [
    "# Fitting K-Means to the dataset\n",
    "kmeans = KMeans(n_clusters = 5, init = 'k-means++', random_state = 42)\n",
    "y_kmeans = kmeans.fit_predict(X)\n",
    "\n",
    "# Visualising the clusters\n",
    "plt.scatter(X[y_kmeans == 0, 0], X[y_kmeans == 0, 1], s = 100, c = 'red', label = 'Cluster 1')\n",
    "plt.scatter(X[y_kmeans == 1, 0], X[y_kmeans == 1, 1], s = 100, c = 'red', label = 'Cluster 2')\n",
    "plt.scatter(X[y_kmeans == 2, 0], X[y_kmeans == 2, 1], s = 100, c = 'green', label = 'Cluster 3')\n",
    "plt.scatter(X[y_kmeans == 3, 0], X[y_kmeans == 3, 1], s = 100, c = 'cyan', label = 'Cluster 4')\n",
    "plt.scatter(X[y_kmeans == 4, 0], X[y_kmeans == 4, 1], s = 100, c = 'cyan', label = 'Cluster 5')\n",
    "plt.scatter(kmeans.cluster_centers_[:, 0], kmeans.cluster_centers_[:, 1], s = 300, c = 'Blue', label = 'Centroids')\n",
    "plt.title('Clusters of StudentsID')\n",
    "plt.xlabel('accuracy rates')\n",
    "plt.ylabel('attempt rates ')\n",
    "plt.legend()\n",
    "plt.show()"
   ]
  }
 ],
 "metadata": {
  "kernelspec": {
   "display_name": "Python 3",
   "language": "python",
   "name": "python3"
  },
  "language_info": {
   "codemirror_mode": {
    "name": "ipython",
    "version": 3
   },
   "file_extension": ".py",
   "mimetype": "text/x-python",
   "name": "python",
   "nbconvert_exporter": "python",
   "pygments_lexer": "ipython3",
   "version": "3.7.3"
  }
 },
 "nbformat": 4,
 "nbformat_minor": 2
}
